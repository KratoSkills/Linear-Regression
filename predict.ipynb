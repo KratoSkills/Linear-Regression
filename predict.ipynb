{
 "cells": [
  {
   "cell_type": "code",
   "execution_count": 1,
   "metadata": {},
   "outputs": [],
   "source": [
    "# © \"Himanshu Yadav\" or \"kr4T0X\" or \"KratoSkills\""
   ]
  },
  {
   "cell_type": "code",
   "execution_count": 2,
   "metadata": {},
   "outputs": [
    {
     "data": {
      "text/plain": [
       "'\\nThis model predicts CLOSE price based upon OPEN price\\n'"
      ]
     },
     "execution_count": 2,
     "metadata": {},
     "output_type": "execute_result"
    }
   ],
   "source": [
    "################################################\n",
    "'''\n",
    "This is a test code to learn implementation of simple linear regression from scratch.\n",
    "'''\n",
    "'''\n",
    "This model predicts CLOSE price based upon OPEN price\n",
    "'''"
   ]
  },
  {
   "cell_type": "code",
   "execution_count": 3,
   "metadata": {},
   "outputs": [],
   "source": [
    "################################################\n",
    "# Importing necessary libraries\n",
    "import re\n",
    "import pandas as pd\n",
    "from tvDatafeed import TvDatafeed, Interval\n",
    "from matplotlib import pyplot as plt\n",
    "import numpy as np"
   ]
  },
  {
   "cell_type": "code",
   "execution_count": 4,
   "metadata": {},
   "outputs": [
    {
     "name": "stdout",
     "output_type": "stream",
     "text": [
      "Which candle data? (Supported: (1/3/5/15/30/45 min), (1/2/3/4 hour),  1 day, 1 week, 1 month)\n"
     ]
    }
   ],
   "source": [
    "################################################\n",
    "# Taking and formatting user input regarding which data to get.\n",
    "\n",
    "symbol = input(\"Enter symbol (eg: THETAUSDTPERP, BANKNIFTY, etc.): \").upper()\n",
    "\n",
    "exchange = input(\"Enter exchange (eg: BINANCE, BSE, NSE, etc.): \").upper()\n",
    "\n",
    "print(\"Which candle data? (Supported: (1/3/5/15/30/45 min), (1/2/3/4 hour),  1 day, 1 week, 1 month)\")\n",
    "interval = input(\"(eg: 5min, 1hour, 1day, etc.): \")\n",
    "interval = re.findall(\"^([0-9]*)([a-z]*)\", interval)\n",
    "if (interval[0][1] == \"min\"):\n",
    "    if (int(interval[0][0]) == 1): interval = Interval.in_1_minute\n",
    "    elif (int(interval[0][0]) == 3): interval = Interval.in_3_minute\n",
    "    elif (int(interval[0][0]) == 5): interval = Interval.in_5_minute\n",
    "    elif (int(interval[0][0]) == 15): interval = Interval.in_15_minute\n",
    "    elif (int(interval[0][0]) == 30): interval = Interval.in_30_minute\n",
    "    elif (int(interval[0][0]) == 45): interval = Interval.in_45_minute\n",
    "elif (interval[0][1] == \"hour\"):\n",
    "    if (int(interval[0][0]) == 1): interval = Interval.in_1_hour\n",
    "    elif (int(interval[0][0]) == 2): interval = Interval.in_2_hour\n",
    "    elif (int(interval[0][0]) == 3): interval = Interval.in_3_hour\n",
    "    elif (int(interval[0][0]) == 4): interval = Interval.in_4_hour\n",
    "elif (interval[0][1] == \"day\"): interval = Interval.in_daily\n",
    "elif (interval[0][1] == \"week\"): interval = Interval.in_weekly\n",
    "elif (interval[0][1] == \"month\"): interval = Interval.in_monthly\n",
    "\n",
    "n_bars = int(input(\"How much data? (eg: 100, 360, 1000, 2500,....max 5000): \"))"
   ]
  },
  {
   "cell_type": "code",
   "execution_count": 5,
   "metadata": {},
   "outputs": [],
   "source": [
    "#############################################\n",
    "# Getting and Storing Data in an excel file.\n",
    "\n",
    "tv = TvDatafeed(auto_login=False)\n",
    "\n",
    "data = tv.get_hist(symbol=symbol, exchange=exchange, interval=interval, n_bars=n_bars)\n",
    "\n",
    "data.to_excel('D:\\My Projects\\Python\\Linear Regression\\PRICE PREDICTION\\{}.xlsx'.format(symbol))"
   ]
  },
  {
   "cell_type": "code",
   "execution_count": 6,
   "metadata": {},
   "outputs": [],
   "source": [
    "#############################################\n",
    "# Implement linear regression\n",
    "\n",
    "# Finding relationship between time and OHLC (seperately) from our data\n",
    "#SOURCE: https://towardsdatascience.com/linear-regression-from-scratch-cd0dee067f72"
   ]
  },
  {
   "cell_type": "code",
   "execution_count": 7,
   "metadata": {},
   "outputs": [],
   "source": [
    "# initializing our inputs and outputs Dataset\n",
    "# INPUT\n",
    "inp = data[\"open\"].values\n",
    "\n",
    "# OUTPUT\n",
    "out = data[\"close\"].values"
   ]
  },
  {
   "cell_type": "code",
   "execution_count": 8,
   "metadata": {},
   "outputs": [],
   "source": [
    "# mean of our inputs and outputs\n",
    "inp_mean = np.mean(inp)\n",
    "out_mean = np.mean(out)"
   ]
  },
  {
   "cell_type": "code",
   "execution_count": 9,
   "metadata": {},
   "outputs": [
    {
     "name": "stdout",
     "output_type": "stream",
     "text": [
      "5000\n"
     ]
    }
   ],
   "source": [
    "# Training Data length = np.shape(inp)[0]\n",
    "print(np.shape(inp)[0])"
   ]
  },
  {
   "cell_type": "code",
   "execution_count": 10,
   "metadata": {},
   "outputs": [
    {
     "name": "stdout",
     "output_type": "stream",
     "text": [
      "m = 0.9992898481837839 -- this is our 'weight' \n",
      "c = 26.995077357871196 -- this is our 'bias'\n"
     ]
    }
   ],
   "source": [
    "# using the formula to calculate the 'm' and 'c'\n",
    "'''\n",
    "y = m*x + c. This is a line where 'y' is the output variable we want to predict, 'x' is the input variable we know and \n",
    "'c' and 'm' are coefficients that we need to estimate that move the line around.\n",
    "Technically, 'c' is called the INTERCEPT because it determines where the line intercepts the 'y-axis'.\n",
    "The 'm' term is called the SLOPE because it defines the slope of the line or how 'x' translates into a 'y' value before we add our bias.\n",
    "'''\n",
    "numerator = 0\n",
    "denominator = 0\n",
    "for i in range(np.shape(inp)[0]):\n",
    "    numerator += (inp[i] - inp_mean) * (out[i] - out_mean)\n",
    "    denominator += (inp[i] - inp_mean) ** 2\n",
    "    \n",
    "m = numerator / denominator\n",
    "c = out_mean - (m * inp_mean)\n",
    "#printing the coefficient\n",
    "print(\"m =\", m, \"-- this is our 'weight'\", \"\\nc =\", c, \"-- this is our 'bias'\")"
   ]
  },
  {
   "cell_type": "code",
   "execution_count": 11,
   "metadata": {},
   "outputs": [
    {
     "data": {
      "image/png": "[encoded data removed]",
      "text/plain": [
       "<Figure size 432x288 with 1 Axes>"
      ]
     },
     "metadata": {
      "needs_background": "light"
     },
     "output_type": "display_data"
    }
   ],
   "source": [
    "#plotting values \n",
    "inp_max = np.max(inp) + 100\n",
    "inp_min = np.min(inp) - 100\n",
    "#calculating line values of x and y\n",
    "x = np.linspace(inp_min, inp_max, 1000)\n",
    "y = c + m * x\n",
    "#plotting line \n",
    "plt.plot(x, y, label='Linear Regression', color='red')\n",
    "#plot the data point\n",
    "plt.scatter(inp, out, label='Data Point')\n",
    "# x-axis label\n",
    "plt.xlabel('OPEN PRICE')\n",
    "#y-axis label\n",
    "plt.ylabel('CLOSE PRICE')\n",
    "plt.legend()\n",
    "plt.show()"
   ]
  },
  {
   "cell_type": "code",
   "execution_count": 12,
   "metadata": {},
   "outputs": [
    {
     "name": "stdout",
     "output_type": "stream",
     "text": [
      "% error in model = 1.8677171514763842\n"
     ]
    }
   ],
   "source": [
    "#Error as Root Mean Square Error, RMSE\n",
    "rmse = 0\n",
    "for i in range(np.shape(inp)[0]):\n",
    "    y_pred=  c + m* inp[i]\n",
    "    rmse += (out[i] - y_pred) ** 2\n",
    "    \n",
    "rmse = np.sqrt(rmse/n_bars)\n",
    "#print(\"RMS Error = \", rmse)\n",
    "print(\"% error in model =\", 100 - ((out_mean-rmse)/out_mean*100))"
   ]
  },
  {
   "cell_type": "code",
   "execution_count": 13,
   "metadata": {},
   "outputs": [
    {
     "name": "stdout",
     "output_type": "stream",
     "text": [
      "Coefficient of Determination = 0.9988849689285729\n"
     ]
    }
   ],
   "source": [
    "# Finding coefficient of Determination (R² Score)\n",
    "'''\n",
    "R² score measure the accuracy of our linear model, mathematically : R² = SSR/SST\n",
    "SST is the total sum of squares and SSR is the total sum of squares of residuals.\n",
    "R² Score usually ranges from 0 to 1. It will also become negative if the model is completely wrong.\n",
    "'''\n",
    "'''\n",
    "we can improve the score by :\n",
    "    Getting more datasets\n",
    "    Improving the features\n",
    "    Fit many models etc\n",
    "'''\n",
    "sumofsquares = 0\n",
    "sumofresiduals = 0\n",
    "for i in range(np.shape(inp)[0]) :\n",
    "    y_pred = c + m * inp[i]\n",
    "    sumofsquares += (out[i] - out_mean) ** 2\n",
    "    sumofresiduals += (out[i] - y_pred) **2\n",
    "    \n",
    "score  = 1 - (sumofresiduals/sumofsquares)\n",
    "print(\"Coefficient of Determination =\",score)"
   ]
  },
  {
   "cell_type": "code",
   "execution_count": 14,
   "metadata": {},
   "outputs": [],
   "source": [
    "# © \"Himanshu Yadav\" or \"kr4T0X\" or \"KratoSkills\""
   ]
  }
 ],
 "metadata": {
  "interpreter": {
   "hash": "5f29aed5d2efafefc03a5e7868c0eab4ff1c27995160278b3aa57af14cc1ae5e"
  },
  "kernelspec": {
   "display_name": "Python 3.9.12 ('ML')",
   "language": "python",
   "name": "python3"
  },
  "language_info": {
   "codemirror_mode": {
    "name": "ipython",
    "version": 3
   },
   "file_extension": ".py",
   "mimetype": "text/x-python",
   "name": "python",
   "nbconvert_exporter": "python",
   "pygments_lexer": "ipython3",
   "version": "3.9.12"
  },
  "orig_nbformat": 4
 },
 "nbformat": 4,
 "nbformat_minor": 2
}
